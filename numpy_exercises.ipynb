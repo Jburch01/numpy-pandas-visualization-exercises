{
 "cells": [
  {
   "cell_type": "code",
   "execution_count": 3,
   "id": "e268eca8",
   "metadata": {},
   "outputs": [],
   "source": [
    "import numpy as np"
   ]
  },
  {
   "cell_type": "code",
   "execution_count": 223,
   "id": "17ded3ec",
   "metadata": {},
   "outputs": [],
   "source": [
    "a = np.array([4, 10, 12, 23, -2, -1, 0, 0, 0, -6, 3, -7])"
   ]
  },
  {
   "cell_type": "markdown",
   "id": "6a3268dc",
   "metadata": {},
   "source": [
    "1. How many negative numbers are there?"
   ]
  },
  {
   "cell_type": "code",
   "execution_count": 226,
   "id": "e8b42fc9",
   "metadata": {},
   "outputs": [
    {
     "data": {
      "text/plain": [
       "4"
      ]
     },
     "execution_count": 226,
     "metadata": {},
     "output_type": "execute_result"
    }
   ],
   "source": [
    "np.count_nonzero(a < 0)"
   ]
  },
  {
   "cell_type": "markdown",
   "id": "5b0675c4",
   "metadata": {},
   "source": [
    "2. How many positive numbers are there?"
   ]
  },
  {
   "cell_type": "code",
   "execution_count": 219,
   "id": "d6a319c1",
   "metadata": {},
   "outputs": [
    {
     "data": {
      "text/plain": [
       "array([ 4, 10, 12, 23, -2, -1,  0,  0,  0, -6,  3, -7])"
      ]
     },
     "execution_count": 219,
     "metadata": {},
     "output_type": "execute_result"
    }
   ],
   "source": [
    "np.count_nonzero(a > 0)\n"
   ]
  },
  {
   "cell_type": "markdown",
   "id": "d78ca9dc",
   "metadata": {},
   "source": [
    "3. How many even positive numbers are there?"
   ]
  },
  {
   "cell_type": "code",
   "execution_count": 228,
   "id": "e0ffadb6",
   "metadata": {},
   "outputs": [
    {
     "data": {
      "text/plain": [
       "3"
      ]
     },
     "execution_count": 228,
     "metadata": {},
     "output_type": "execute_result"
    }
   ],
   "source": [
    "np.count_nonzero((a > 0) & (a % 2 == 0))"
   ]
  },
  {
   "cell_type": "markdown",
   "id": "176e5670",
   "metadata": {},
   "source": [
    "4. If you were to add 3 to each data point, how many positive numbers would there be?"
   ]
  },
  {
   "cell_type": "code",
   "execution_count": 43,
   "id": "d554367a",
   "metadata": {},
   "outputs": [
    {
     "data": {
      "text/plain": [
       "10"
      ]
     },
     "execution_count": 43,
     "metadata": {},
     "output_type": "execute_result"
    }
   ],
   "source": [
    "b = (a + 3)\n",
    "mask = (b > 0)\n",
    "len(b[mask])"
   ]
  },
  {
   "cell_type": "markdown",
   "id": "ca71620d",
   "metadata": {},
   "source": [
    "5. If you squared each number, what would the new mean and standard deviation be?"
   ]
  },
  {
   "cell_type": "code",
   "execution_count": 230,
   "id": "d0cd8167",
   "metadata": {},
   "outputs": [
    {
     "data": {
      "text/plain": [
       "144.0243035046516"
      ]
     },
     "execution_count": 230,
     "metadata": {},
     "output_type": "execute_result"
    }
   ],
   "source": [
    "b = a ** 2\n",
    "b.mean()\n",
    "b.std()\n"
   ]
  },
  {
   "cell_type": "markdown",
   "id": "19051fa6",
   "metadata": {},
   "source": [
    "6. A common statistical operation on a dataset is centering. This means to adjust the data such that the mean of the data is 0. This is done by subtracting the mean from each data point. Center the data set. See this link for more on centering."
   ]
  },
  {
   "cell_type": "code",
   "execution_count": 49,
   "id": "ed3ebbbb",
   "metadata": {},
   "outputs": [
    {
     "data": {
      "text/plain": [
       "3.0"
      ]
     },
     "execution_count": 49,
     "metadata": {},
     "output_type": "execute_result"
    }
   ],
   "source": [
    "a.mean()"
   ]
  },
  {
   "cell_type": "code",
   "execution_count": 234,
   "id": "6bab222d",
   "metadata": {},
   "outputs": [
    {
     "data": {
      "text/plain": [
       "array([  1.,   7.,   9.,  20.,  -5.,  -4.,  -3.,  -3.,  -3.,  -9.,   0.,\n",
       "       -10.])"
      ]
     },
     "execution_count": 234,
     "metadata": {},
     "output_type": "execute_result"
    }
   ],
   "source": [
    "b = a - a.mean()\n",
    "b\n",
    "# b.mean()"
   ]
  },
  {
   "cell_type": "markdown",
   "id": "fb5535ec",
   "metadata": {},
   "source": [
    "7. Calculate the z-score for each data point. Recall that the z-score is given by:"
   ]
  },
  {
   "cell_type": "code",
   "execution_count": 238,
   "id": "43b0ac1e",
   "metadata": {},
   "outputs": [
    {
     "data": {
      "text/plain": [
       "array([ 0.12403473,  0.86824314,  1.11631261,  2.48069469, -0.62017367,\n",
       "       -0.49613894, -0.3721042 , -0.3721042 , -0.3721042 , -1.11631261,\n",
       "        0.        , -1.24034735])"
      ]
     },
     "execution_count": 238,
     "metadata": {},
     "output_type": "execute_result"
    }
   ],
   "source": [
    "z = (a - a.mean()) / a.std()\n",
    "z"
   ]
  },
  {
   "cell_type": "markdown",
   "id": "97e26bfd",
   "metadata": {},
   "source": [
    "8. "
   ]
  },
  {
   "cell_type": "code",
   "execution_count": 60,
   "id": "155d2a66",
   "metadata": {},
   "outputs": [],
   "source": [
    "## Setup 1\n",
    "a = [1, 2, 3, 4, 5, 6, 7, 8, 9, 10]"
   ]
  },
  {
   "cell_type": "markdown",
   "id": "06e6e5b7",
   "metadata": {},
   "source": [
    "#Use python's built in functionality/operators to determine the following:\n",
    "\n",
    "Exercise 1 - Make a variable called sum_of_a to hold the sum of all the numbers in above list"
   ]
  },
  {
   "cell_type": "code",
   "execution_count": 62,
   "id": "8bcc41cc",
   "metadata": {},
   "outputs": [
    {
     "data": {
      "text/plain": [
       "55"
      ]
     },
     "execution_count": 62,
     "metadata": {},
     "output_type": "execute_result"
    }
   ],
   "source": [
    "sum_of_a = sum(a)\n",
    "sum_of_a"
   ]
  },
  {
   "cell_type": "markdown",
   "id": "a121e5ab",
   "metadata": {},
   "source": [
    " Exercise 2 - Make a variable named min_of_a to hold the minimum of all the numbers in the above list"
   ]
  },
  {
   "cell_type": "code",
   "execution_count": 65,
   "id": "5d1d1fa9",
   "metadata": {},
   "outputs": [
    {
     "data": {
      "text/plain": [
       "1"
      ]
     },
     "execution_count": 65,
     "metadata": {},
     "output_type": "execute_result"
    }
   ],
   "source": [
    "min_of_a = min(a)\n",
    "min_of_a"
   ]
  },
  {
   "cell_type": "markdown",
   "id": "bb51593e",
   "metadata": {},
   "source": [
    " Exercise 3 - Make a variable named max_of_a to hold the max number of all the numbers in the above list"
   ]
  },
  {
   "cell_type": "code",
   "execution_count": 67,
   "id": "8bd60cc8",
   "metadata": {},
   "outputs": [
    {
     "data": {
      "text/plain": [
       "10"
      ]
     },
     "execution_count": 67,
     "metadata": {},
     "output_type": "execute_result"
    }
   ],
   "source": [
    "max_of_a = max(a)\n",
    "max_of_a"
   ]
  },
  {
   "cell_type": "markdown",
   "id": "0a485cf8",
   "metadata": {},
   "source": [
    " Exercise 4 - Make a variable named mean_of_a to hold the average of all the numbers in the above list"
   ]
  },
  {
   "cell_type": "code",
   "execution_count": 73,
   "id": "7c12569c",
   "metadata": {},
   "outputs": [
    {
     "data": {
      "text/plain": [
       "5.5"
      ]
     },
     "execution_count": 73,
     "metadata": {},
     "output_type": "execute_result"
    }
   ],
   "source": [
    "mean_of_a = sum_of_a / len(a)\n",
    "mean_of_a"
   ]
  },
  {
   "cell_type": "markdown",
   "id": "3096f04f",
   "metadata": {},
   "source": [
    "Exercise 5 - Make a variable named product_of_a to hold the product of multiplying all the numbers in the above list together"
   ]
  },
  {
   "cell_type": "code",
   "execution_count": 76,
   "id": "52810b92",
   "metadata": {},
   "outputs": [
    {
     "data": {
      "text/plain": [
       "3628800"
      ]
     },
     "execution_count": 76,
     "metadata": {},
     "output_type": "execute_result"
    }
   ],
   "source": [
    "product_of_a = 1\n",
    "for num in a:\n",
    "    product_of_a *= num \n",
    "product_of_a    "
   ]
  },
  {
   "cell_type": "markdown",
   "id": "bd7e32a8",
   "metadata": {},
   "source": [
    "Exercise 6 - Make a variable named squares_of_a. It should hold each number in a squared like [1, 4, 9, 16, 25...]"
   ]
  },
  {
   "cell_type": "code",
   "execution_count": 78,
   "id": "4c3747f8",
   "metadata": {},
   "outputs": [
    {
     "data": {
      "text/plain": [
       "[1, 4, 9, 16, 25, 36, 49, 64, 81, 100]"
      ]
     },
     "execution_count": 78,
     "metadata": {},
     "output_type": "execute_result"
    }
   ],
   "source": [
    "squares_of_a = []\n",
    "for num in a:\n",
    "    squares_of_a.append(num**2)\n",
    "squares_of_a    "
   ]
  },
  {
   "cell_type": "markdown",
   "id": "959af1a6",
   "metadata": {},
   "source": [
    " Exercise 7 - Make a variable named odds_in_a. It should hold only the odd numbers"
   ]
  },
  {
   "cell_type": "code",
   "execution_count": 79,
   "id": "359d12a8",
   "metadata": {},
   "outputs": [
    {
     "data": {
      "text/plain": [
       "[1, 3, 5, 7, 9]"
      ]
     },
     "execution_count": 79,
     "metadata": {},
     "output_type": "execute_result"
    }
   ],
   "source": [
    "odds_in_a = []\n",
    "for num in a:\n",
    "    if num % 2 != 0:\n",
    "        odds_in_a.append(num)\n",
    "odds_in_a        "
   ]
  },
  {
   "cell_type": "markdown",
   "id": "d4c1d48f",
   "metadata": {},
   "source": [
    " Exercise 8 - Make a variable named evens_in_a. It should hold only the evens."
   ]
  },
  {
   "cell_type": "code",
   "execution_count": 80,
   "id": "f8c4023c",
   "metadata": {},
   "outputs": [
    {
     "data": {
      "text/plain": [
       "[2, 4, 6, 8, 10]"
      ]
     },
     "execution_count": 80,
     "metadata": {},
     "output_type": "execute_result"
    }
   ],
   "source": [
    "evens_in_a = []\n",
    "for num in a:\n",
    "    if num % 2 == 0:\n",
    "        evens_in_a.append(num)\n",
    "evens_in_a        "
   ]
  },
  {
   "cell_type": "markdown",
   "id": "94bfb92e",
   "metadata": {},
   "source": [
    " What about life in two dimensions? A list of lists is matrix, a table, a spreadsheet, a chessboard...\n",
    " Setup 2: Consider what it would take to find the sum, min, max, average, sum, product, and list of squares for this list of two lists.\n",
    "\n"
   ]
  },
  {
   "cell_type": "code",
   "execution_count": 99,
   "id": "20326add",
   "metadata": {},
   "outputs": [],
   "source": [
    "b = [\n",
    "    [3, 4, 5],\n",
    "    [6, 7, 8]\n",
    "]"
   ]
  },
  {
   "cell_type": "code",
   "execution_count": 84,
   "id": "e1fce5a6",
   "metadata": {},
   "outputs": [
    {
     "data": {
      "text/plain": [
       "33"
      ]
     },
     "execution_count": 84,
     "metadata": {},
     "output_type": "execute_result"
    }
   ],
   "source": [
    "np.sum(b)"
   ]
  },
  {
   "cell_type": "code",
   "execution_count": 86,
   "id": "9b92d41e",
   "metadata": {},
   "outputs": [
    {
     "data": {
      "text/plain": [
       "3"
      ]
     },
     "execution_count": 86,
     "metadata": {},
     "output_type": "execute_result"
    }
   ],
   "source": [
    "np.min(b)"
   ]
  },
  {
   "cell_type": "code",
   "execution_count": 87,
   "id": "02dda3af",
   "metadata": {},
   "outputs": [
    {
     "data": {
      "text/plain": [
       "8"
      ]
     },
     "execution_count": 87,
     "metadata": {},
     "output_type": "execute_result"
    }
   ],
   "source": [
    "np.max(b)"
   ]
  },
  {
   "cell_type": "code",
   "execution_count": 89,
   "id": "a6e282c0",
   "metadata": {},
   "outputs": [
    {
     "data": {
      "text/plain": [
       "5.5"
      ]
     },
     "execution_count": 89,
     "metadata": {},
     "output_type": "execute_result"
    }
   ],
   "source": [
    "np.mean(b)"
   ]
  },
  {
   "cell_type": "code",
   "execution_count": 90,
   "id": "0eef1819",
   "metadata": {},
   "outputs": [
    {
     "data": {
      "text/plain": [
       "20160"
      ]
     },
     "execution_count": 90,
     "metadata": {},
     "output_type": "execute_result"
    }
   ],
   "source": [
    "np.product(b)"
   ]
  },
  {
   "cell_type": "code",
   "execution_count": 91,
   "id": "c6ffa269",
   "metadata": {},
   "outputs": [
    {
     "data": {
      "text/plain": [
       "array([[ 9, 16, 25],\n",
       "       [36, 49, 64]])"
      ]
     },
     "execution_count": 91,
     "metadata": {},
     "output_type": "execute_result"
    }
   ],
   "source": [
    "np.square(b)"
   ]
  },
  {
   "cell_type": "markdown",
   "id": "54bacfce",
   "metadata": {},
   "source": [
    "#Exercise 1 - refactor the following to use numpy. Use sum_of_b as the variable. **Hint, you'll first need to make sure that the \"b\" variable is a numpy array**\n",
    "sum_of_b = 0\n",
    "for row in b:\n",
    "    sum_of_b += sum(row)"
   ]
  },
  {
   "cell_type": "code",
   "execution_count": 103,
   "id": "7424eec7",
   "metadata": {},
   "outputs": [
    {
     "data": {
      "text/plain": [
       "33"
      ]
     },
     "execution_count": 103,
     "metadata": {},
     "output_type": "execute_result"
    }
   ],
   "source": [
    "b = np.array(b)\n",
    "b.sum()"
   ]
  },
  {
   "cell_type": "markdown",
   "id": "67a8ba1c",
   "metadata": {},
   "source": [
    " Exercise 2 - refactor the following to use numpy. \n",
    "min_of_b = min(b[0]) if min(b[0]) <= min(b[1]) else min(b[1]) "
   ]
  },
  {
   "cell_type": "code",
   "execution_count": 114,
   "id": "d8416262",
   "metadata": {},
   "outputs": [
    {
     "data": {
      "text/plain": [
       "3"
      ]
     },
     "execution_count": 114,
     "metadata": {},
     "output_type": "execute_result"
    }
   ],
   "source": [
    "min_of_b = b.min()\n",
    "min_of_b"
   ]
  },
  {
   "cell_type": "markdown",
   "id": "8240e092",
   "metadata": {},
   "source": [
    "Exercise 3 - refactor the following maximum calculation to find the answer with numpy.\n",
    "max_of_b = max(b[0]) if max(b[0]) >= max(b[1]) else max(b[1])"
   ]
  },
  {
   "cell_type": "code",
   "execution_count": 115,
   "id": "315342f1",
   "metadata": {},
   "outputs": [
    {
     "data": {
      "text/plain": [
       "8"
      ]
     },
     "execution_count": 115,
     "metadata": {},
     "output_type": "execute_result"
    }
   ],
   "source": [
    "max_of_b = np.max(b)\n",
    "max_of_b"
   ]
  },
  {
   "cell_type": "markdown",
   "id": "209ac5a2",
   "metadata": {},
   "source": [
    "#Exercise 4 - refactor the following using numpy to find the mean of b\n",
    "mean_of_b = (sum(b[0]) + sum(b[1])) / (len(b[0]) + len(b[1]))"
   ]
  },
  {
   "cell_type": "code",
   "execution_count": 122,
   "id": "3dcab8a1",
   "metadata": {},
   "outputs": [
    {
     "data": {
      "text/plain": [
       "33"
      ]
     },
     "execution_count": 122,
     "metadata": {},
     "output_type": "execute_result"
    }
   ],
   "source": [
    "mean_of_b = b.sum()\n",
    "mean_of_b"
   ]
  },
  {
   "cell_type": "markdown",
   "id": "80020474",
   "metadata": {},
   "source": [
    " Exercise 5 - refactor the following to use numpy for calculating the product of all numbers multiplied together.\n",
    "product_of_b = 1\n",
    "for row in b:\n",
    "    for number in row:\n",
    "        product_of_b *= number"
   ]
  },
  {
   "cell_type": "code",
   "execution_count": 124,
   "id": "bb0629b4",
   "metadata": {},
   "outputs": [
    {
     "data": {
      "text/plain": [
       "20160"
      ]
     },
     "execution_count": 124,
     "metadata": {},
     "output_type": "execute_result"
    }
   ],
   "source": [
    "product_of_b = np.product(b)\n",
    "product_of_b"
   ]
  },
  {
   "cell_type": "markdown",
   "id": "4fa4a97d",
   "metadata": {},
   "source": [
    "Exercise 6 - refactor the following to use numpy to find the list of squares \n",
    "squares_of_b = []\n",
    "for row in b:\n",
    "    for number in row:\n",
    "        squares_of_b.append(number**2)"
   ]
  },
  {
   "cell_type": "code",
   "execution_count": 126,
   "id": "8bc41df7",
   "metadata": {},
   "outputs": [
    {
     "data": {
      "text/plain": [
       "array([[ 9, 16, 25],\n",
       "       [36, 49, 64]])"
      ]
     },
     "execution_count": 126,
     "metadata": {},
     "output_type": "execute_result"
    }
   ],
   "source": [
    "squares_of_b = np.square(b)\n",
    "squares_of_b"
   ]
  },
  {
   "cell_type": "markdown",
   "id": "89288531",
   "metadata": {},
   "source": [
    " Exercise 7 - refactor using numpy to determine the odds_in_b\n",
    "odds_in_b = []\n",
    "for row in b:\n",
    "    for number in row:\n",
    "        if(number % 2 != 0):\n",
    "            odds_in_b.append(number)"
   ]
  },
  {
   "cell_type": "code",
   "execution_count": 135,
   "id": "4c4f184b",
   "metadata": {},
   "outputs": [
    {
     "data": {
      "text/plain": [
       "array([3, 5, 7])"
      ]
     },
     "execution_count": 135,
     "metadata": {},
     "output_type": "execute_result"
    }
   ],
   "source": [
    "mask = (b % 2 != 0)\n",
    "\n",
    "b[mask]\n"
   ]
  },
  {
   "cell_type": "markdown",
   "id": "038e29db",
   "metadata": {},
   "source": [
    "Exercise 8 - refactor the following to use numpy to filter only the even numbers\n",
    "evens_in_b = []\n",
    "for row in b:\n",
    "    for number in row:\n",
    "        if(number % 2 == 0):\n",
    "            evens_in_b.append(number)"
   ]
  },
  {
   "cell_type": "code",
   "execution_count": 139,
   "id": "ae6da6bf",
   "metadata": {},
   "outputs": [
    {
     "data": {
      "text/plain": [
       "array([4, 6, 8])"
      ]
     },
     "execution_count": 139,
     "metadata": {},
     "output_type": "execute_result"
    }
   ],
   "source": [
    "mask = (b % 2 == 0)\n",
    "b[mask]\n"
   ]
  },
  {
   "cell_type": "markdown",
   "id": "069a7081",
   "metadata": {},
   "source": [
    " Exercise 9 - print out the shape of the array b."
   ]
  },
  {
   "cell_type": "code",
   "execution_count": 143,
   "id": "7e964499",
   "metadata": {},
   "outputs": [
    {
     "data": {
      "text/plain": [
       "(2, 3)"
      ]
     },
     "execution_count": 143,
     "metadata": {},
     "output_type": "execute_result"
    }
   ],
   "source": [
    "b.shape\n"
   ]
  },
  {
   "cell_type": "markdown",
   "id": "7d921fbb",
   "metadata": {},
   "source": [
    " Exercise 10 - transpose the array b."
   ]
  },
  {
   "cell_type": "code",
   "execution_count": 146,
   "id": "fac85cc8",
   "metadata": {},
   "outputs": [
    {
     "data": {
      "text/plain": [
       "array([[3, 6],\n",
       "       [4, 7],\n",
       "       [5, 8]])"
      ]
     },
     "execution_count": 146,
     "metadata": {},
     "output_type": "execute_result"
    }
   ],
   "source": [
    "b.transpose()"
   ]
  },
  {
   "cell_type": "markdown",
   "id": "3792b94c",
   "metadata": {},
   "source": [
    " Exercise 11 - reshape the array b to be a single list of 6 numbers. (1 x 6)"
   ]
  },
  {
   "cell_type": "code",
   "execution_count": 148,
   "id": "ebef725a",
   "metadata": {},
   "outputs": [
    {
     "data": {
      "text/plain": [
       "array([[3, 4, 5, 6, 7, 8]])"
      ]
     },
     "execution_count": 148,
     "metadata": {},
     "output_type": "execute_result"
    }
   ],
   "source": [
    "b.reshape(1,6)"
   ]
  },
  {
   "cell_type": "markdown",
   "id": "bb12f04c",
   "metadata": {},
   "source": [
    " Exercise 12 - reshape the array b to be a list of 6 lists, each containing only 1 number (6 x 1)"
   ]
  },
  {
   "cell_type": "code",
   "execution_count": 149,
   "id": "ab8c630e",
   "metadata": {},
   "outputs": [
    {
     "data": {
      "text/plain": [
       "array([[3],\n",
       "       [4],\n",
       "       [5],\n",
       "       [6],\n",
       "       [7],\n",
       "       [8]])"
      ]
     },
     "execution_count": 149,
     "metadata": {},
     "output_type": "execute_result"
    }
   ],
   "source": [
    "b.reshape(6, 1)"
   ]
  },
  {
   "cell_type": "markdown",
   "id": "3e4534f9",
   "metadata": {},
   "source": [
    "### Setup 3\n"
   ]
  },
  {
   "cell_type": "code",
   "execution_count": 150,
   "id": "5dcc6b99",
   "metadata": {},
   "outputs": [],
   "source": [
    "c = [\n",
    "    [1, 2, 3],\n",
    "    [4, 5, 6],\n",
    "    [7, 8, 9]\n",
    "]\n",
    "\n"
   ]
  },
  {
   "cell_type": "markdown",
   "id": "f6d0ab49",
   "metadata": {},
   "source": [
    "### Exercise 1 - Find the min, max, sum, and product of c."
   ]
  },
  {
   "cell_type": "code",
   "execution_count": 154,
   "id": "9dc3092f",
   "metadata": {},
   "outputs": [
    {
     "data": {
      "text/plain": [
       "array([[1, 2, 3],\n",
       "       [4, 5, 6],\n",
       "       [7, 8, 9]])"
      ]
     },
     "execution_count": 154,
     "metadata": {},
     "output_type": "execute_result"
    }
   ],
   "source": [
    "c = np.array(c)\n",
    "c"
   ]
  },
  {
   "cell_type": "code",
   "execution_count": 155,
   "id": "e0473c3f",
   "metadata": {},
   "outputs": [
    {
     "data": {
      "text/plain": [
       "1"
      ]
     },
     "execution_count": 155,
     "metadata": {},
     "output_type": "execute_result"
    }
   ],
   "source": [
    "c.min()"
   ]
  },
  {
   "cell_type": "code",
   "execution_count": 156,
   "id": "0bf41699",
   "metadata": {},
   "outputs": [
    {
     "data": {
      "text/plain": [
       "9"
      ]
     },
     "execution_count": 156,
     "metadata": {},
     "output_type": "execute_result"
    }
   ],
   "source": [
    "c.max()"
   ]
  },
  {
   "cell_type": "code",
   "execution_count": 157,
   "id": "a38b848b",
   "metadata": {},
   "outputs": [
    {
     "data": {
      "text/plain": [
       "45"
      ]
     },
     "execution_count": 157,
     "metadata": {},
     "output_type": "execute_result"
    }
   ],
   "source": [
    "c.sum()"
   ]
  },
  {
   "cell_type": "code",
   "execution_count": 160,
   "id": "1bb41b1c",
   "metadata": {},
   "outputs": [
    {
     "data": {
      "text/plain": [
       "362880"
      ]
     },
     "execution_count": 160,
     "metadata": {},
     "output_type": "execute_result"
    }
   ],
   "source": [
    "np.product(c)"
   ]
  },
  {
   "cell_type": "markdown",
   "id": "3b41bef7",
   "metadata": {},
   "source": [
    " Exercise 2 - Determine the standard deviation of c."
   ]
  },
  {
   "cell_type": "code",
   "execution_count": 162,
   "id": "20e3a592",
   "metadata": {},
   "outputs": [
    {
     "data": {
      "text/plain": [
       "2.581988897471611"
      ]
     },
     "execution_count": 162,
     "metadata": {},
     "output_type": "execute_result"
    }
   ],
   "source": [
    "np.std(c)"
   ]
  },
  {
   "cell_type": "markdown",
   "id": "537ee32f",
   "metadata": {},
   "source": [
    "Exercise 3 - Determine the variance of c."
   ]
  },
  {
   "cell_type": "code",
   "execution_count": 163,
   "id": "6793f128",
   "metadata": {},
   "outputs": [
    {
     "data": {
      "text/plain": [
       "6.666666666666667"
      ]
     },
     "execution_count": 163,
     "metadata": {},
     "output_type": "execute_result"
    }
   ],
   "source": [
    "np.var(c)"
   ]
  },
  {
   "cell_type": "markdown",
   "id": "bde7723e",
   "metadata": {},
   "source": [
    " Exercise 4 - Print out the shape of the array c"
   ]
  },
  {
   "cell_type": "code",
   "execution_count": 164,
   "id": "6b520930",
   "metadata": {},
   "outputs": [
    {
     "name": "stdout",
     "output_type": "stream",
     "text": [
      "(3, 3)\n"
     ]
    }
   ],
   "source": [
    "print(c.shape)"
   ]
  },
  {
   "cell_type": "markdown",
   "id": "fd1f3055",
   "metadata": {},
   "source": [
    " Exercise 5 - Transpose c and print out transposed result."
   ]
  },
  {
   "cell_type": "code",
   "execution_count": 165,
   "id": "bd1cf957",
   "metadata": {},
   "outputs": [
    {
     "name": "stdout",
     "output_type": "stream",
     "text": [
      "[[1 4 7]\n",
      " [2 5 8]\n",
      " [3 6 9]]\n"
     ]
    }
   ],
   "source": [
    "print(c.transpose())"
   ]
  },
  {
   "cell_type": "markdown",
   "id": "a375758c",
   "metadata": {},
   "source": [
    " Exercise 6 - Get the dot product of the array c with c. "
   ]
  },
  {
   "cell_type": "code",
   "execution_count": 168,
   "id": "0339063f",
   "metadata": {},
   "outputs": [
    {
     "data": {
      "text/plain": [
       "array([[ 30,  36,  42],\n",
       "       [ 66,  81,  96],\n",
       "       [102, 126, 150]])"
      ]
     },
     "execution_count": 168,
     "metadata": {},
     "output_type": "execute_result"
    }
   ],
   "source": [
    "np.dot(c, c)"
   ]
  },
  {
   "cell_type": "markdown",
   "id": "6f4a2dfe",
   "metadata": {},
   "source": [
    " Exercise 7 - Write the code necessary to sum up the result of c times c transposed. Answer should be 261"
   ]
  },
  {
   "cell_type": "code",
   "execution_count": 239,
   "id": "edeb07af",
   "metadata": {},
   "outputs": [
    {
     "data": {
      "text/plain": [
       "261"
      ]
     },
     "execution_count": 239,
     "metadata": {},
     "output_type": "execute_result"
    }
   ],
   "source": [
    "((c * np.transpose(c))).sum()"
   ]
  },
  {
   "cell_type": "markdown",
   "id": "443bf5b0",
   "metadata": {},
   "source": [
    " Exercise 8 - Write the code necessary to determine the product of c times c transposed. Answer should be 131681894400."
   ]
  },
  {
   "cell_type": "code",
   "execution_count": 184,
   "id": "b4d33e9b",
   "metadata": {},
   "outputs": [
    {
     "data": {
      "text/plain": [
       "131681894400"
      ]
     },
     "execution_count": 184,
     "metadata": {},
     "output_type": "execute_result"
    }
   ],
   "source": [
    "np.product(c * np.transpose(c))"
   ]
  },
  {
   "cell_type": "markdown",
   "id": "2325e327",
   "metadata": {},
   "source": [
    "### Setup 4"
   ]
  },
  {
   "cell_type": "code",
   "execution_count": 185,
   "id": "e52a60a7",
   "metadata": {},
   "outputs": [],
   "source": [
    "d = [\n",
    "    [90, 30, 45, 0, 120, 180],\n",
    "    [45, -90, -30, 270, 90, 0],\n",
    "    [60, 45, -45, 90, -45, 180]\n",
    "]"
   ]
  },
  {
   "cell_type": "code",
   "execution_count": 210,
   "id": "24093147",
   "metadata": {},
   "outputs": [],
   "source": [
    "d = np.array(d)"
   ]
  },
  {
   "cell_type": "markdown",
   "id": "1762d2f4",
   "metadata": {},
   "source": [
    " Exercise 1 - Find the sine of all the numbers in d"
   ]
  },
  {
   "cell_type": "code",
   "execution_count": 192,
   "id": "86a32bc9",
   "metadata": {},
   "outputs": [
    {
     "data": {
      "text/plain": [
       "array([[ 0.89399666, -0.98803162,  0.85090352,  0.        ,  0.58061118,\n",
       "        -0.80115264],\n",
       "       [ 0.85090352, -0.89399666,  0.98803162, -0.17604595,  0.89399666,\n",
       "         0.        ],\n",
       "       [-0.30481062,  0.85090352, -0.85090352,  0.89399666, -0.85090352,\n",
       "        -0.80115264]])"
      ]
     },
     "execution_count": 192,
     "metadata": {},
     "output_type": "execute_result"
    }
   ],
   "source": [
    "np.sin(d)"
   ]
  },
  {
   "cell_type": "markdown",
   "id": "3c7d1ad6",
   "metadata": {},
   "source": [
    "Exercise 2 - Find the cosine of all the numbers in d"
   ]
  },
  {
   "cell_type": "code",
   "execution_count": 193,
   "id": "51c14914",
   "metadata": {},
   "outputs": [
    {
     "data": {
      "text/plain": [
       "array([[-0.44807362,  0.15425145,  0.52532199,  1.        ,  0.81418097,\n",
       "        -0.59846007],\n",
       "       [ 0.52532199, -0.44807362,  0.15425145,  0.98438195, -0.44807362,\n",
       "         1.        ],\n",
       "       [-0.95241298,  0.52532199,  0.52532199, -0.44807362,  0.52532199,\n",
       "        -0.59846007]])"
      ]
     },
     "execution_count": 193,
     "metadata": {},
     "output_type": "execute_result"
    }
   ],
   "source": [
    "np.cos(d)"
   ]
  },
  {
   "cell_type": "markdown",
   "id": "0e6479e9",
   "metadata": {},
   "source": [
    "Exercise 3 - Find the tangent of all the numbers in d"
   ]
  },
  {
   "cell_type": "code",
   "execution_count": 194,
   "id": "8df22b92",
   "metadata": {},
   "outputs": [
    {
     "data": {
      "text/plain": [
       "array([[-1.99520041, -6.4053312 ,  1.61977519,  0.        ,  0.71312301,\n",
       "         1.33869021],\n",
       "       [ 1.61977519,  1.99520041,  6.4053312 , -0.17883906, -1.99520041,\n",
       "         0.        ],\n",
       "       [ 0.32004039,  1.61977519, -1.61977519, -1.99520041, -1.61977519,\n",
       "         1.33869021]])"
      ]
     },
     "execution_count": 194,
     "metadata": {},
     "output_type": "execute_result"
    }
   ],
   "source": [
    "np.tan(d)"
   ]
  },
  {
   "cell_type": "markdown",
   "id": "e79712cb",
   "metadata": {},
   "source": [
    " Exercise 4 - Find all the negative numbers in d"
   ]
  },
  {
   "cell_type": "code",
   "execution_count": 243,
   "id": "e6726f53",
   "metadata": {},
   "outputs": [
    {
     "data": {
      "text/plain": [
       "array([-90, -30, -45, -45])"
      ]
     },
     "execution_count": 243,
     "metadata": {},
     "output_type": "execute_result"
    }
   ],
   "source": [
    "d [d < 0]"
   ]
  },
  {
   "cell_type": "markdown",
   "id": "1e390ce4",
   "metadata": {},
   "source": [
    "Exercise 5 - Find all the positive numbers in d"
   ]
  },
  {
   "cell_type": "code",
   "execution_count": 242,
   "id": "d50b3283",
   "metadata": {},
   "outputs": [
    {
     "data": {
      "text/plain": [
       "array([ 90,  30,  45, 120, 180,  45, 270,  90,  60,  45,  90, 180])"
      ]
     },
     "execution_count": 242,
     "metadata": {},
     "output_type": "execute_result"
    }
   ],
   "source": [
    "d [d > 0]"
   ]
  },
  {
   "cell_type": "markdown",
   "id": "702902e4",
   "metadata": {},
   "source": [
    " Exercise 6 - Return an array of only the unique numbers in d."
   ]
  },
  {
   "cell_type": "code",
   "execution_count": 197,
   "id": "6ee19a8b",
   "metadata": {},
   "outputs": [
    {
     "data": {
      "text/plain": [
       "array([-90, -45, -30,   0,  30,  45,  60,  90, 120, 180, 270])"
      ]
     },
     "execution_count": 197,
     "metadata": {},
     "output_type": "execute_result"
    }
   ],
   "source": [
    "np.unique(d)"
   ]
  },
  {
   "cell_type": "markdown",
   "id": "cbe3921a",
   "metadata": {},
   "source": [
    " Exercise 7 - Determine how many unique numbers there are in d."
   ]
  },
  {
   "cell_type": "code",
   "execution_count": 200,
   "id": "203cdc69",
   "metadata": {},
   "outputs": [
    {
     "data": {
      "text/plain": [
       "11"
      ]
     },
     "execution_count": 200,
     "metadata": {},
     "output_type": "execute_result"
    }
   ],
   "source": [
    "len(np.unique(d))"
   ]
  },
  {
   "cell_type": "markdown",
   "id": "eaa6f713",
   "metadata": {},
   "source": [
    " Exercise 8 - Print out the shape of d."
   ]
  },
  {
   "cell_type": "code",
   "execution_count": 204,
   "id": "7873ae91",
   "metadata": {},
   "outputs": [
    {
     "name": "stdout",
     "output_type": "stream",
     "text": [
      "(3, 6)\n"
     ]
    }
   ],
   "source": [
    "print(np.shape(d))"
   ]
  },
  {
   "cell_type": "markdown",
   "id": "2272c2bb",
   "metadata": {},
   "source": [
    "Exercise 9 - Transpose and then print out the shape of d."
   ]
  },
  {
   "cell_type": "code",
   "execution_count": 247,
   "id": "9e0bb971",
   "metadata": {},
   "outputs": [
    {
     "data": {
      "text/plain": [
       "(6, 3)"
      ]
     },
     "execution_count": 247,
     "metadata": {},
     "output_type": "execute_result"
    }
   ],
   "source": [
    "d.T.shape"
   ]
  },
  {
   "cell_type": "markdown",
   "id": "01104f99",
   "metadata": {},
   "source": [
    "Exercise 10 - Reshape d into an array of 9 x 2"
   ]
  },
  {
   "cell_type": "code",
   "execution_count": 211,
   "id": "381b71c2",
   "metadata": {},
   "outputs": [
    {
     "data": {
      "text/plain": [
       "array([[ 90,  30],\n",
       "       [ 45,   0],\n",
       "       [120, 180],\n",
       "       [ 45, -90],\n",
       "       [-30, 270],\n",
       "       [ 90,   0],\n",
       "       [ 60,  45],\n",
       "       [-45,  90],\n",
       "       [-45, 180]])"
      ]
     },
     "execution_count": 211,
     "metadata": {},
     "output_type": "execute_result"
    }
   ],
   "source": [
    "d.reshape(9, 2)"
   ]
  }
 ],
 "metadata": {
  "kernelspec": {
   "display_name": "Python 3 (ipykernel)",
   "language": "python",
   "name": "python3"
  },
  "language_info": {
   "codemirror_mode": {
    "name": "ipython",
    "version": 3
   },
   "file_extension": ".py",
   "mimetype": "text/x-python",
   "name": "python",
   "nbconvert_exporter": "python",
   "pygments_lexer": "ipython3",
   "version": "3.9.13"
  }
 },
 "nbformat": 4,
 "nbformat_minor": 5
}
